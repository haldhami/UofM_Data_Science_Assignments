{
 "cells": [
  {
   "cell_type": "markdown",
   "metadata": {},
   "source": [
    "---\n",
    "\n",
    "_You are currently looking at **version 1.1** of this notebook. To download notebooks and datafiles, as well as get help on Jupyter notebooks in the Coursera platform, visit the [Jupyter Notebook FAQ](https://www.coursera.org/learn/python-text-mining/resources/d9pwm) course resource._\n",
    "\n",
    "---"
   ]
  },
  {
   "cell_type": "markdown",
   "metadata": {},
   "source": [
    "# Assignment 3\n",
    "\n",
    "In this assignment you will explore text message data and create models to predict if a message is spam or not. "
   ]
  },
  {
   "cell_type": "code",
   "execution_count": 1,
   "metadata": {},
   "outputs": [
    {
     "data": {
      "text/html": [
       "<div>\n",
       "<style>\n",
       "    .dataframe thead tr:only-child th {\n",
       "        text-align: right;\n",
       "    }\n",
       "\n",
       "    .dataframe thead th {\n",
       "        text-align: left;\n",
       "    }\n",
       "\n",
       "    .dataframe tbody tr th {\n",
       "        vertical-align: top;\n",
       "    }\n",
       "</style>\n",
       "<table border=\"1\" class=\"dataframe\">\n",
       "  <thead>\n",
       "    <tr style=\"text-align: right;\">\n",
       "      <th></th>\n",
       "      <th>text</th>\n",
       "      <th>target</th>\n",
       "    </tr>\n",
       "  </thead>\n",
       "  <tbody>\n",
       "    <tr>\n",
       "      <th>0</th>\n",
       "      <td>Go until jurong point, crazy.. Available only ...</td>\n",
       "      <td>0</td>\n",
       "    </tr>\n",
       "    <tr>\n",
       "      <th>1</th>\n",
       "      <td>Ok lar... Joking wif u oni...</td>\n",
       "      <td>0</td>\n",
       "    </tr>\n",
       "    <tr>\n",
       "      <th>2</th>\n",
       "      <td>Free entry in 2 a wkly comp to win FA Cup fina...</td>\n",
       "      <td>1</td>\n",
       "    </tr>\n",
       "    <tr>\n",
       "      <th>3</th>\n",
       "      <td>U dun say so early hor... U c already then say...</td>\n",
       "      <td>0</td>\n",
       "    </tr>\n",
       "    <tr>\n",
       "      <th>4</th>\n",
       "      <td>Nah I don't think he goes to usf, he lives aro...</td>\n",
       "      <td>0</td>\n",
       "    </tr>\n",
       "    <tr>\n",
       "      <th>5</th>\n",
       "      <td>FreeMsg Hey there darling it's been 3 week's n...</td>\n",
       "      <td>1</td>\n",
       "    </tr>\n",
       "    <tr>\n",
       "      <th>6</th>\n",
       "      <td>Even my brother is not like to speak with me. ...</td>\n",
       "      <td>0</td>\n",
       "    </tr>\n",
       "    <tr>\n",
       "      <th>7</th>\n",
       "      <td>As per your request 'Melle Melle (Oru Minnamin...</td>\n",
       "      <td>0</td>\n",
       "    </tr>\n",
       "    <tr>\n",
       "      <th>8</th>\n",
       "      <td>WINNER!! As a valued network customer you have...</td>\n",
       "      <td>1</td>\n",
       "    </tr>\n",
       "    <tr>\n",
       "      <th>9</th>\n",
       "      <td>Had your mobile 11 months or more? U R entitle...</td>\n",
       "      <td>1</td>\n",
       "    </tr>\n",
       "  </tbody>\n",
       "</table>\n",
       "</div>"
      ],
      "text/plain": [
       "                                                text  target\n",
       "0  Go until jurong point, crazy.. Available only ...       0\n",
       "1                      Ok lar... Joking wif u oni...       0\n",
       "2  Free entry in 2 a wkly comp to win FA Cup fina...       1\n",
       "3  U dun say so early hor... U c already then say...       0\n",
       "4  Nah I don't think he goes to usf, he lives aro...       0\n",
       "5  FreeMsg Hey there darling it's been 3 week's n...       1\n",
       "6  Even my brother is not like to speak with me. ...       0\n",
       "7  As per your request 'Melle Melle (Oru Minnamin...       0\n",
       "8  WINNER!! As a valued network customer you have...       1\n",
       "9  Had your mobile 11 months or more? U R entitle...       1"
      ]
     },
     "execution_count": 1,
     "metadata": {},
     "output_type": "execute_result"
    }
   ],
   "source": [
    "import pandas as pd\n",
    "import numpy as np\n",
    "\n",
    "spam_data = pd.read_csv('spam.csv')\n",
    "\n",
    "spam_data['target'] = np.where(spam_data['target']=='spam',1,0)\n",
    "spam_data.head(10)"
   ]
  },
  {
   "cell_type": "code",
   "execution_count": 4,
   "metadata": {
    "collapsed": true
   },
   "outputs": [],
   "source": [
    "from sklearn.model_selection import train_test_split\n",
    "\n",
    "\n",
    "X_train, X_test, y_train, y_test = train_test_split(spam_data['text'], \n",
    "                                                    spam_data['target'], \n",
    "                                                    random_state=0)"
   ]
  },
  {
   "cell_type": "markdown",
   "metadata": {},
   "source": [
    "### Question 1\n",
    "What percentage of the documents in `spam_data` are spam?\n",
    "\n",
    "*This function should return a float, the percent value (i.e. $ratio * 100$).*"
   ]
  },
  {
   "cell_type": "code",
   "execution_count": 7,
   "metadata": {
    "collapsed": true
   },
   "outputs": [],
   "source": [
    "def answer_one():\n",
    "    \n",
    "    spam_count = len(spam_data['target'].where(spam_data['target'] == 1).dropna())\n",
    "    total = len(spam_data)\n",
    "    \n",
    "    return (spam_count/total)*100"
   ]
  },
  {
   "cell_type": "code",
   "execution_count": 8,
   "metadata": {},
   "outputs": [
    {
     "data": {
      "text/plain": [
       "13.406317300789663"
      ]
     },
     "execution_count": 8,
     "metadata": {},
     "output_type": "execute_result"
    }
   ],
   "source": [
    "answer_one()"
   ]
  },
  {
   "cell_type": "markdown",
   "metadata": {},
   "source": [
    "### Question 2\n",
    "\n",
    "Fit the training data `X_train` using a Count Vectorizer with default parameters.\n",
    "\n",
    "What is the longest token in the vocabulary?\n",
    "\n",
    "*This function should return a string.*"
   ]
  },
  {
   "cell_type": "code",
   "execution_count": 34,
   "metadata": {
    "collapsed": true
   },
   "outputs": [],
   "source": [
    "from sklearn.feature_extraction.text import CountVectorizer\n",
    "\n",
    "def answer_two():\n",
    "    \n",
    "    # Create vect\n",
    "    vectorizer = CountVectorizer()\n",
    "    # Fit vect to X_train data and transform X_train to X\n",
    "    X = vectorizer.fit_transform(X_train)\n",
    "    # Method is replaced by get_feature_names_out() but extracts feature names from vectorizer\n",
    "    a = vectorizer.get_feature_names()\n",
    "    longest = max(a, key=len)\n",
    "    \n",
    "    return longest"
   ]
  },
  {
   "cell_type": "code",
   "execution_count": 35,
   "metadata": {},
   "outputs": [
    {
     "data": {
      "text/plain": [
       "'com1win150ppmx3age16subscription'"
      ]
     },
     "execution_count": 35,
     "metadata": {},
     "output_type": "execute_result"
    }
   ],
   "source": [
    "answer_two()"
   ]
  },
  {
   "cell_type": "markdown",
   "metadata": {},
   "source": [
    "### Question 3\n",
    "\n",
    "Fit and transform the training data `X_train` using a Count Vectorizer with default parameters.\n",
    "\n",
    "Next, fit a fit a multinomial Naive Bayes classifier model with smoothing `alpha=0.1`. Find the area under the curve (AUC) score using the transformed test data.\n",
    "\n",
    "*This function should return the AUC score as a float.*"
   ]
  },
  {
   "cell_type": "code",
   "execution_count": 89,
   "metadata": {
    "collapsed": true
   },
   "outputs": [],
   "source": [
    "from sklearn.naive_bayes import MultinomialNB\n",
    "from sklearn.metrics import roc_auc_score\n",
    "\n",
    "def answer_three():\n",
    "    \n",
    "    # Create vect, fit, and transform\n",
    "    vectorizer = CountVectorizer()\n",
    "    X = vectorizer.fit_transform(X_train)\n",
    "    # Create multinomial bayes classifier with alpha = 0.1 and fit to training data\n",
    "    clf = MultinomialNB(alpha=0.1).fit(X, y_train)\n",
    "    # Transform test data using already fit vectorizer (ensures X_train_vec and X_test_vec have same num columns)\n",
    "    X_test_vec = vectorizer.transform(X_test)\n",
    "    # Get y_predictions for X_test\n",
    "    y_pred = clf.predict(X_test_vec)\n",
    "    # Gen roc_score for true y_test labels and y_pred labels\n",
    "    roc_score = roc_auc_score(y_test, y_pred)\n",
    "    \n",
    "    return roc_score"
   ]
  },
  {
   "cell_type": "code",
   "execution_count": 90,
   "metadata": {},
   "outputs": [
    {
     "data": {
      "text/plain": [
       "0.97208121827411165"
      ]
     },
     "execution_count": 90,
     "metadata": {},
     "output_type": "execute_result"
    }
   ],
   "source": [
    "answer_three()"
   ]
  },
  {
   "cell_type": "markdown",
   "metadata": {},
   "source": [
    "### Question 4\n",
    "\n",
    "Fit and transform the training data `X_train` using a Tfidf Vectorizer with default parameters.\n",
    "\n",
    "What 20 features have the smallest tf-idf and what 20 have the largest tf-idf?\n",
    "\n",
    "Put these features in a two series where each series is sorted by tf-idf value and then alphabetically by feature name. The index of the series should be the feature name, and the data should be the tf-idf.\n",
    "\n",
    "The series of 20 features with smallest tf-idfs should be sorted smallest tfidf first, the list of 20 features with largest tf-idfs should be sorted largest first. \n",
    "\n",
    "*This function should return a tuple of two series\n",
    "`(smallest tf-idfs series, largest tf-idfs series)`.*"
   ]
  },
  {
   "cell_type": "code",
   "execution_count": 190,
   "metadata": {
    "collapsed": true
   },
   "outputs": [],
   "source": [
    "from sklearn.feature_extraction.text import TfidfVectorizer\n",
    "import numpy as np\n",
    "\n",
    "def answer_four():\n",
    "    \n",
    "    # Create vect, fit to X_train and transform to X_train_vec\n",
    "    vect = TfidfVectorizer()\n",
    "    X_train_vec = vect.fit_transform(X_train)\n",
    "    # Get feature names from vect\n",
    "    feature_names = np.array(vect.get_feature_names())\n",
    "    # Max(0) seems to reduce the sparse numpy array to one row and same columns\n",
    "    # Convert to array with tfidf scores, remove one level of list with [0]\n",
    "    # argsort() returns a list of indices that would sort the array\n",
    "    sorted_tfidf_index = X_train_vec.max(0).toarray()[0].argsort()\n",
    "    \n",
    "    # The smallest feature indices are at the start of the sorted_tfidf_index, largest at the end\n",
    "    smallest_tfidf_feature_names = feature_names[sorted_tfidf_index[:20]]\n",
    "    largest_tfidf_feature_names = feature_names[sorted_tfidf_index[:-21:-1]]\n",
    "    \n",
    "    smallest_tfidf_values = X_train_vec.max(0).toarray()[0][sorted_tfidf_index[:20]]\n",
    "    largest_tfidf_values = X_train_vec.max(0).toarray()[0][sorted_tfidf_index[:-21:-1]]\n",
    "    \n",
    "    # Convert to data series\n",
    "    small_series = pd.Series(smallest_tfidf_values, index=smallest_tfidf_feature_names, name=None)\n",
    "    large_series = pd.Series(largest_tfidf_values, index=largest_tfidf_feature_names, name=None)\n",
    "    \n",
    "    # Necessary for autograder apparently\n",
    "    small_series.index.name = None\n",
    "    large_series.index.name = None\n",
    "    \n",
    "    # Sort the series first on values then on index using np.lexsort, where last column has highest priority\n",
    "    # '-' indicates reverse order\n",
    "    small_series = small_series[np.lexsort((small_series.index, small_series.values))]\n",
    "    large_series = large_series[np.lexsort((large_series.index, -large_series.values))]\n",
    "    \n",
    "    return (small_series, large_series)"
   ]
  },
  {
   "cell_type": "code",
   "execution_count": 191,
   "metadata": {},
   "outputs": [
    {
     "data": {
      "text/plain": [
       "(aaniye          0.074475\n",
       " athletic        0.074475\n",
       " chef            0.074475\n",
       " companion       0.074475\n",
       " courageous      0.074475\n",
       " dependable      0.074475\n",
       " determined      0.074475\n",
       " exterminator    0.074475\n",
       " healer          0.074475\n",
       " listener        0.074475\n",
       " organizer       0.074475\n",
       " pest            0.074475\n",
       " psychiatrist    0.074475\n",
       " psychologist    0.074475\n",
       " pudunga         0.074475\n",
       " stylist         0.074475\n",
       " sympathetic     0.074475\n",
       " venaam          0.074475\n",
       " diwali          0.091250\n",
       " mornings        0.091250\n",
       " dtype: float64, 146tf150p    1.000000\n",
       " 645          1.000000\n",
       " anything     1.000000\n",
       " anytime      1.000000\n",
       " beerage      1.000000\n",
       " done         1.000000\n",
       " er           1.000000\n",
       " havent       1.000000\n",
       " home         1.000000\n",
       " lei          1.000000\n",
       " nite         1.000000\n",
       " ok           1.000000\n",
       " okie         1.000000\n",
       " thank        1.000000\n",
       " thanx        1.000000\n",
       " too          1.000000\n",
       " where        1.000000\n",
       " yup          1.000000\n",
       " tick         0.980166\n",
       " blank        0.932702\n",
       " dtype: float64)"
      ]
     },
     "execution_count": 191,
     "metadata": {},
     "output_type": "execute_result"
    }
   ],
   "source": [
    "answer_four()"
   ]
  },
  {
   "cell_type": "markdown",
   "metadata": {},
   "source": [
    "### Question 5\n",
    "\n",
    "Fit and transform the training data `X_train` using a Tfidf Vectorizer ignoring terms that have a document frequency strictly lower than **3**.\n",
    "\n",
    "Then fit a multinomial Naive Bayes classifier model with smoothing `alpha=0.1` and compute the area under the curve (AUC) score using the transformed test data.\n",
    "\n",
    "*This function should return the AUC score as a float.*"
   ]
  },
  {
   "cell_type": "code",
   "execution_count": 93,
   "metadata": {
    "collapsed": true
   },
   "outputs": [],
   "source": [
    "def answer_five():\n",
    "    \n",
    "    # Create vect with min doc frequency = 3, train and transform\n",
    "    vect = TfidfVectorizer(min_df=3).fit(X_train)\n",
    "    X_train_vec = vect.transform(X_train)\n",
    "    \n",
    "    # Create classifier with alpha = 0.1 and fit to train data\n",
    "    clf = MultinomialNB(alpha=0.1).fit(X_train_vec, y_train)\n",
    "    \n",
    "    # Transform test data and gen predictions, and compute auc_score\n",
    "    X_test_vec = vect.transform(X_test)\n",
    "    y_pred = clf.predict(X_test_vec)\n",
    "    \n",
    "    auc_score = roc_auc_score(y_test, y_pred)\n",
    "    \n",
    "    return auc_score"
   ]
  },
  {
   "cell_type": "code",
   "execution_count": 94,
   "metadata": {},
   "outputs": [
    {
     "data": {
      "text/plain": [
       "0.94162436548223349"
      ]
     },
     "execution_count": 94,
     "metadata": {},
     "output_type": "execute_result"
    }
   ],
   "source": [
    "answer_five()"
   ]
  },
  {
   "cell_type": "markdown",
   "metadata": {},
   "source": [
    "### Question 6\n",
    "\n",
    "What is the average length of documents (number of characters) for not spam and spam documents?\n",
    "\n",
    "*This function should return a tuple (average length not spam, average length spam).*"
   ]
  },
  {
   "cell_type": "code",
   "execution_count": 103,
   "metadata": {
    "collapsed": true
   },
   "outputs": [],
   "source": [
    "def answer_six():\n",
    "    \n",
    "    # Get dfs for spam and not_spam \n",
    "    not_spam = spam_data.where(spam_data['target'] == 0).dropna()\n",
    "    spam = spam_data.where(spam_data['target'] == 1).dropna()\n",
    "    \n",
    "    # Create lists of all the text\n",
    "    not_spam = list(not_spam['text'])\n",
    "    spam = list(spam['text'])\n",
    "    \n",
    "    # Find no entries in list i.e. total entries of spam and not_spam\n",
    "    not_spam_entries = len(not_spam)\n",
    "    spam_entries = len(spam)\n",
    "    \n",
    "    # Find total number of characters for spam and not spam messages by iterating over each message\n",
    "    total_chars_not_spam = 0\n",
    "    for message in not_spam:\n",
    "        total_chars_not_spam += len(list(message))\n",
    "        \n",
    "    total_chars_spam = 0\n",
    "    for message in spam:\n",
    "        total_chars_spam += len(list(message))\n",
    "        \n",
    "    avg_len_not_spam = total_chars_not_spam/not_spam_entries\n",
    "    avg_len_spam = total_chars_spam/spam_entries\n",
    "    \n",
    "    return (avg_len_not_spam, avg_len_spam)"
   ]
  },
  {
   "cell_type": "code",
   "execution_count": 104,
   "metadata": {},
   "outputs": [
    {
     "data": {
      "text/plain": [
       "(71.02362694300518, 138.8661311914324)"
      ]
     },
     "execution_count": 104,
     "metadata": {},
     "output_type": "execute_result"
    }
   ],
   "source": [
    "answer_six()"
   ]
  },
  {
   "cell_type": "markdown",
   "metadata": {},
   "source": [
    "<br>\n",
    "<br>\n",
    "The following function has been provided to help you combine new features into the training data:"
   ]
  },
  {
   "cell_type": "code",
   "execution_count": 105,
   "metadata": {
    "collapsed": true
   },
   "outputs": [],
   "source": [
    "def add_feature(X, feature_to_add):\n",
    "    \"\"\"\n",
    "    Returns sparse feature matrix with added feature.\n",
    "    feature_to_add can also be a list of features.\n",
    "    \"\"\"\n",
    "    from scipy.sparse import csr_matrix, hstack\n",
    "    return hstack([X, csr_matrix(feature_to_add).T], 'csr')"
   ]
  },
  {
   "cell_type": "markdown",
   "metadata": {},
   "source": [
    "### Question 7\n",
    "\n",
    "Fit and transform the training data X_train using a Tfidf Vectorizer ignoring terms that have a document frequency strictly lower than **5**.\n",
    "\n",
    "Using this document-term matrix and an additional feature, **the length of document (number of characters)**, fit a Support Vector Classification model with regularization `C=10000`. Then compute the area under the curve (AUC) score using the transformed test data.\n",
    "\n",
    "*This function should return the AUC score as a float.*"
   ]
  },
  {
   "cell_type": "code",
   "execution_count": 135,
   "metadata": {
    "collapsed": true
   },
   "outputs": [],
   "source": [
    "from sklearn.svm import SVC\n",
    "\n",
    "def answer_seven():\n",
    "    \n",
    "    # Create vect with min doc frequency of 5, fit and transform data \n",
    "    vect = TfidfVectorizer(min_df=5).fit(X_train)\n",
    "    X_train_vec = vect.transform(X_train)\n",
    "    \n",
    "    # Create new feature for X_train_vec, length of document\n",
    "    add_feat = np.array([])\n",
    "    for row in X_train:\n",
    "        add_feat = np.append(add_feat, len(row))\n",
    "    \n",
    "    # Add feature to X_train_vec\n",
    "    X_train_vec = add_feature(X_train_vec, add_feat)\n",
    "    \n",
    "    # Create vectorized X_test\n",
    "    X_test_vec = vect.transform(X_test)\n",
    "    \n",
    "    # Create new feature for X_test_vec, as above\n",
    "    add_feat = np.array([])\n",
    "    for row in X_test:\n",
    "        add_feat = np.append(add_feat, len(row))\n",
    "    \n",
    "    # Add feature to X_test_vec\n",
    "    X_test_vec = add_feature(X_test_vec, add_feat)\n",
    "    \n",
    "    # Create and train SVC classifier\n",
    "    clf = SVC(C=10000).fit(X_train_vec, y_train)\n",
    "    # Generate prediction labels\n",
    "    y_pred = clf.predict(X_test_vec)\n",
    "    # Compute auc_score\n",
    "    roc_score = roc_auc_score(y_test, y_pred)\n",
    "    \n",
    "    \n",
    "    return roc_score"
   ]
  },
  {
   "cell_type": "code",
   "execution_count": 136,
   "metadata": {},
   "outputs": [
    {
     "data": {
      "text/plain": [
       "0.95813668234215565"
      ]
     },
     "execution_count": 136,
     "metadata": {},
     "output_type": "execute_result"
    }
   ],
   "source": [
    "answer_seven()"
   ]
  },
  {
   "cell_type": "markdown",
   "metadata": {},
   "source": [
    "### Question 8\n",
    "\n",
    "What is the average number of digits per document for not spam and spam documents?\n",
    "\n",
    "*This function should return a tuple (average # digits not spam, average # digits spam).*"
   ]
  },
  {
   "cell_type": "code",
   "execution_count": 137,
   "metadata": {
    "collapsed": true
   },
   "outputs": [],
   "source": [
    "def answer_eight():\n",
    "    \n",
    "    # Get dfs for spam and not spam\n",
    "    not_spam = spam_data.where(spam_data['target'] == 0).dropna()\n",
    "    spam = spam_data.where(spam_data['target'] == 1).dropna()\n",
    "    \n",
    "    # Create lists of both\n",
    "    not_spam = list(not_spam['text'])\n",
    "    spam = list(spam['text'])\n",
    "    # Find total entries in both\n",
    "    not_spam_entries = len(not_spam)\n",
    "    spam_entries = len(spam)\n",
    "    \n",
    "    # Count total characters that are digits for spam and not spam\n",
    "    total_chars_not_spam = 0\n",
    "    for message in not_spam:\n",
    "        for char in list(message):\n",
    "            if char.isdigit():\n",
    "                total_chars_not_spam += 1\n",
    "        \n",
    "    total_chars_spam = 0\n",
    "    for message in spam:\n",
    "        for char in list(message):\n",
    "            if char.isdigit():\n",
    "                total_chars_spam += 1\n",
    "        \n",
    "    avg_len_not_spam = total_chars_not_spam/not_spam_entries\n",
    "    avg_len_spam = total_chars_spam/spam_entries\n",
    "    \n",
    "    return (avg_len_not_spam, avg_len_spam)"
   ]
  },
  {
   "cell_type": "code",
   "execution_count": 138,
   "metadata": {},
   "outputs": [
    {
     "data": {
      "text/plain": [
       "(0.2992746113989637, 15.759036144578314)"
      ]
     },
     "execution_count": 138,
     "metadata": {},
     "output_type": "execute_result"
    }
   ],
   "source": [
    "answer_eight()"
   ]
  },
  {
   "cell_type": "markdown",
   "metadata": {},
   "source": [
    "### Question 9\n",
    "\n",
    "Fit and transform the training data `X_train` using a Tfidf Vectorizer ignoring terms that have a document frequency strictly lower than **5** and using **word n-grams from n=1 to n=3** (unigrams, bigrams, and trigrams).\n",
    "\n",
    "Using this document-term matrix and the following additional features:\n",
    "* the length of document (number of characters)\n",
    "* **number of digits per document**\n",
    "\n",
    "fit a Logistic Regression model with regularization `C=100`. Then compute the area under the curve (AUC) score using the transformed test data.\n",
    "\n",
    "*This function should return the AUC score as a float.*"
   ]
  },
  {
   "cell_type": "code",
   "execution_count": 139,
   "metadata": {
    "collapsed": true
   },
   "outputs": [],
   "source": [
    "from sklearn.linear_model import LogisticRegression\n",
    "\n",
    "def answer_nine():\n",
    "    \n",
    "    # Create tfidf vect with min doc frequency of 5 and word ngram range between 1 and 3 (inclusive), fit, transform\n",
    "    vect = TfidfVectorizer(min_df=5, ngram_range=(1,3)).fit(X_train)\n",
    "    X_train_vec = vect.transform(X_train)\n",
    "    \n",
    "    # Add len of doc features and num digits per doc features to X_train_vec and X_test_vec\n",
    "    add_feat = np.array([])\n",
    "    for row in X_train:\n",
    "        add_feat = np.append(add_feat, len(row))\n",
    "        \n",
    "    add_feat2 = np.array([])\n",
    "    for row in X_train:\n",
    "        count = 0\n",
    "        for char in list(row):\n",
    "            if char.isdigit():\n",
    "                count += 1\n",
    "        add_feat2 = np.append(add_feat2, count)\n",
    "    \n",
    "    X_train_vec = add_feature(X_train_vec, add_feat)\n",
    "    X_train_vec = add_feature(X_train_vec, add_feat2)\n",
    "    \n",
    "    X_test_vec = vect.transform(X_test)\n",
    "    \n",
    "    add_feat = np.array([])\n",
    "    for row in X_test:\n",
    "        add_feat = np.append(add_feat, len(row))\n",
    "        \n",
    "    add_feat2 = np.array([])\n",
    "    for row in X_test:\n",
    "        count = 0\n",
    "        for char in list(row):\n",
    "            if char.isdigit():\n",
    "                count += 1\n",
    "        add_feat2 = np.append(add_feat2, count)\n",
    "        \n",
    "    X_test_vec = add_feature(X_test_vec, add_feat)\n",
    "    X_test_vec = add_feature(X_test_vec, add_feat2)\n",
    "    \n",
    "    # Train logistic regression model, predict test labels and compute auc_score\n",
    "    clf = LogisticRegression(C=100).fit(X_train_vec, y_train)\n",
    "    y_pred = clf.predict(X_test_vec)\n",
    "    \n",
    "    auc_score = roc_auc_score(y_test, y_pred)\n",
    "    \n",
    "    return auc_score"
   ]
  },
  {
   "cell_type": "code",
   "execution_count": 140,
   "metadata": {},
   "outputs": [
    {
     "data": {
      "text/plain": [
       "0.96533283533945646"
      ]
     },
     "execution_count": 140,
     "metadata": {},
     "output_type": "execute_result"
    }
   ],
   "source": [
    "answer_nine()"
   ]
  },
  {
   "cell_type": "markdown",
   "metadata": {},
   "source": [
    "### Question 10\n",
    "\n",
    "What is the average number of non-word characters (anything other than a letter, digit or underscore) per document for not spam and spam documents?\n",
    "\n",
    "*Hint: Use `\\w` and `\\W` character classes*\n",
    "\n",
    "*This function should return a tuple (average # non-word characters not spam, average # non-word characters spam).*"
   ]
  },
  {
   "cell_type": "code",
   "execution_count": 145,
   "metadata": {
    "collapsed": true
   },
   "outputs": [],
   "source": [
    "def answer_ten():\n",
    "    \n",
    "    # Create not_spam and spam df\n",
    "    not_spam = spam_data.where(spam_data['target'] == 0).dropna()\n",
    "    spam = spam_data.where(spam_data['target'] == 1).dropna()\n",
    "    \n",
    "    # Make them lists\n",
    "    not_spam = list(not_spam['text'])\n",
    "    spam = list(spam['text'])\n",
    "    # Get total entries for each\n",
    "    not_spam_entries = len(not_spam)\n",
    "    spam_entries = len(spam)\n",
    "    # Count total characters across all messages that aren't alphanumeric or underscores for spam and not spam\n",
    "    total_chars_not_spam = 0\n",
    "    for message in not_spam:\n",
    "        for char in list(message):\n",
    "            if not char.isalnum() and not char == '_':\n",
    "                total_chars_not_spam += 1\n",
    "        \n",
    "    total_chars_spam = 0\n",
    "    for message in spam:\n",
    "        for char in list(message):\n",
    "            if not char.isalnum() and not char == '_':\n",
    "                total_chars_spam += 1\n",
    "        \n",
    "    avg_len_not_spam = total_chars_not_spam/not_spam_entries\n",
    "    avg_len_spam = total_chars_spam/spam_entries\n",
    "    \n",
    "    return (avg_len_not_spam, avg_len_spam)"
   ]
  },
  {
   "cell_type": "code",
   "execution_count": 146,
   "metadata": {},
   "outputs": [
    {
     "data": {
      "text/plain": [
       "(17.29181347150259, 29.041499330655956)"
      ]
     },
     "execution_count": 146,
     "metadata": {},
     "output_type": "execute_result"
    }
   ],
   "source": [
    "answer_ten()"
   ]
  },
  {
   "cell_type": "markdown",
   "metadata": {},
   "source": [
    "### Question 11\n",
    "\n",
    "Fit and transform the training data X_train using a Count Vectorizer ignoring terms that have a document frequency strictly lower than **5** and using **character n-grams from n=2 to n=5.**\n",
    "\n",
    "To tell Count Vectorizer to use character n-grams pass in `analyzer='char_wb'` which creates character n-grams only from text inside word boundaries. This should make the model more robust to spelling mistakes.\n",
    "\n",
    "Using this document-term matrix and the following additional features:\n",
    "* the length of document (number of characters)\n",
    "* number of digits per document\n",
    "* **number of non-word characters (anything other than a letter, digit or underscore.)**\n",
    "\n",
    "fit a Logistic Regression model with regularization C=100. Then compute the area under the curve (AUC) score using the transformed test data.\n",
    "\n",
    "Also **find the 10 smallest and 10 largest coefficients from the model** and return them along with the AUC score in a tuple.\n",
    "\n",
    "The list of 10 smallest coefficients should be sorted smallest first, the list of 10 largest coefficients should be sorted largest first.\n",
    "\n",
    "The three features that were added to the document term matrix should have the following names should they appear in the list of coefficients:\n",
    "['length_of_doc', 'digit_count', 'non_word_char_count']\n",
    "\n",
    "*This function should return a tuple `(AUC score as a float, smallest coefs list, largest coefs list)`.*"
   ]
  },
  {
   "cell_type": "code",
   "execution_count": 186,
   "metadata": {},
   "outputs": [],
   "source": [
    "def answer_eleven():\n",
    "    \n",
    "    # Create CountVectorizer vect with min doc frequency=5, and *char* ngram range of 2 and 5 inc. train and transform\n",
    "    vect = CountVectorizer(min_df=5, analyzer='char_wb', ngram_range=(2,5)).fit(X_train)\n",
    "    X_train_vec = vect.transform(X_train)\n",
    "    \n",
    "    # Get feature names from vect and add our new features\n",
    "    feature_names = np.array(vect.get_feature_names())\n",
    "    features_to_add = ['length_of_doc', 'digit_count', 'non_word_char_count']\n",
    "    for feature in features_to_add:\n",
    "        feature_names = np.append(feature_names, feature)\n",
    "    \n",
    "    # Add features length of doc, num digits per doc, and num non-word characters per doc for X_train_vec, X_test_vec\n",
    "    add_feat = np.array([])\n",
    "    for row in X_train:\n",
    "        add_feat = np.append(add_feat, len(row))\n",
    "        \n",
    "    add_feat2 = np.array([])\n",
    "    for row in X_train:\n",
    "        count = 0\n",
    "        for char in list(row):\n",
    "            if char.isdigit():\n",
    "                count += 1\n",
    "        add_feat2 = np.append(add_feat2, count)\n",
    "        \n",
    "    add_feat3 = np.array([])\n",
    "    for row in X_train:\n",
    "        count = 0\n",
    "        for char in list(row):\n",
    "            if not char.isalnum() and not char == '_':\n",
    "                count += 1\n",
    "        add_feat3 = np.append(add_feat3, count)\n",
    "    \n",
    "    X_train_vec = add_feature(X_train_vec, add_feat)\n",
    "    X_train_vec = add_feature(X_train_vec, add_feat2)\n",
    "    X_train_vec = add_feature(X_train_vec, add_feat3)\n",
    "    \n",
    "    X_test_vec = vect.transform(X_test)\n",
    "    \n",
    "    add_feat = np.array([])\n",
    "    for row in X_test:\n",
    "        add_feat = np.append(add_feat, len(row))\n",
    "        \n",
    "    add_feat2 = np.array([])\n",
    "    for row in X_test:\n",
    "        count = 0\n",
    "        for char in list(row):\n",
    "            if char.isdigit():\n",
    "                count += 1\n",
    "        add_feat2 = np.append(add_feat2, count)\n",
    "        \n",
    "    add_feat3 = np.array([])\n",
    "    for row in X_test:\n",
    "        count = 0\n",
    "        for char in list(row):\n",
    "            if not char.isalnum() and not char == '_':\n",
    "                count += 1\n",
    "        add_feat3 = np.append(add_feat3, count)\n",
    "        \n",
    "    X_test_vec = add_feature(X_test_vec, add_feat)\n",
    "    X_test_vec = add_feature(X_test_vec, add_feat2)\n",
    "    X_test_vec = add_feature(X_test_vec, add_feat3)\n",
    "    \n",
    "    # Train logistic regression model, predict X_test labels and compute auc_score\n",
    "    clf = LogisticRegression(C=100).fit(X_train_vec, y_train)\n",
    "    y_pred = clf.predict(X_test_vec)\n",
    "    \n",
    "    auc_score = roc_auc_score(y_test, y_pred)\n",
    "    \n",
    "    # Create list of coefficient index sorted by value, smallest at front, largest at back\n",
    "    sorted_coef_index = clf.coef_[0].argsort()\n",
    "    \n",
    "    # Get 10 smallest and 10 largest coefficient values and names\n",
    "    smallest_coef_values = clf.coef_[0][sorted_coef_index[0:10]]\n",
    "    largest_coef_values = clf.coef_[0][sorted_coef_index[:-11:-1]]\n",
    "    \n",
    "    smallest_coef_names = feature_names[sorted_coef_index[0:10]]\n",
    "    largest_coef_names = feature_names[sorted_coef_index[:-11:-1]]\n",
    "    \n",
    "    return (auc_score, smallest_coef_names, largest_coef_names)"
   ]
  },
  {
   "cell_type": "code",
   "execution_count": 187,
   "metadata": {},
   "outputs": [
    {
     "data": {
      "text/plain": [
       "(0.97885931107074342,\n",
       " array(['. ', '..', '? ', ' i', ' y', ' go', ':)', ' h', 'go', ' m'], \n",
       "       dtype='<U19'),\n",
       " array(['digit_count', 'ne', 'ia', 'co', 'xt', ' ch', 'mob', ' x', 'ww',\n",
       "        'ar'], \n",
       "       dtype='<U19'))"
      ]
     },
     "execution_count": 187,
     "metadata": {},
     "output_type": "execute_result"
    }
   ],
   "source": [
    "answer_eleven()"
   ]
  },
  {
   "cell_type": "code",
   "execution_count": null,
   "metadata": {
    "collapsed": true
   },
   "outputs": [],
   "source": []
  }
 ],
 "metadata": {
  "coursera": {
   "course_slug": "python-text-mining",
   "graded_item_id": "Pn19K",
   "launcher_item_id": "y1juS",
   "part_id": "ctlgo"
  },
  "kernelspec": {
   "display_name": "Python 3",
   "language": "python",
   "name": "python3"
  },
  "language_info": {
   "codemirror_mode": {
    "name": "ipython",
    "version": 3
   },
   "file_extension": ".py",
   "mimetype": "text/x-python",
   "name": "python",
   "nbconvert_exporter": "python",
   "pygments_lexer": "ipython3",
   "version": "3.6.2"
  }
 },
 "nbformat": 4,
 "nbformat_minor": 2
}
